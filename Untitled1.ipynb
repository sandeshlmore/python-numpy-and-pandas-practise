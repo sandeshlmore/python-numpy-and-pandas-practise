{
 "cells": [
  {
   "cell_type": "code",
   "execution_count": 1,
   "metadata": {},
   "outputs": [],
   "source": [
    "#"
   ]
  },
  {
   "cell_type": "code",
   "execution_count": 132,
   "metadata": {},
   "outputs": [
    {
     "name": "stdout",
     "output_type": "stream",
     "text": [
      "3\n"
     ]
    }
   ],
   "source": [
    "#decorator example\n",
    "\n",
    "def outer(func):\n",
    "    \n",
    "    def inner(m,n):\n",
    "        \n",
    "        if m<n:\n",
    "            m,n=n,m\n",
    "        return func(m,n)\n",
    "        \n",
    "    return inner    \n",
    "\n",
    "@outer\n",
    "def sub(a,b):\n",
    "    return a-b\n",
    "\n",
    "#sub = outer(sub)\n",
    "\n",
    "print(sub(2,5))"
   ]
  },
  {
   "cell_type": "code",
   "execution_count": 72,
   "metadata": {},
   "outputs": [
    {
     "name": "stdout",
     "output_type": "stream",
     "text": [
      "sandesh is 21 year old.\n"
     ]
    }
   ],
   "source": [
    "#fstrings\n",
    "name = 'sandesh'\n",
    "age = 21\n",
    "\n",
    "print(f'{name} is {age} year old.')\n"
   ]
  },
  {
   "cell_type": "code",
   "execution_count": 92,
   "metadata": {},
   "outputs": [
    {
     "name": "stdout",
     "output_type": "stream",
     "text": [
      "[('sandesh', 21), ('rajesh', 23)]\n",
      "{'sandesh': 21, 'rajesh': 23}\n",
      "('sandesh', 'rajesh')\n"
     ]
    }
   ],
   "source": [
    "#zip\n",
    "\n",
    "names = ['sandesh', 'rajesh']\n",
    "ages = [21, 23]\n",
    "\n",
    "def zipIt():\n",
    "    z = zip(names, ages)\n",
    "    return z\n",
    "\n",
    "zipped = zipIt()\n",
    "l = list(zipped)\n",
    "zipped = zipIt()\n",
    "d = dict(zipped)\n",
    "\n",
    "print(l)\n",
    "print(d)\n",
    "\n",
    "#unzipped\n",
    "zipped = zipIt()\n",
    "names, ages = zip(*zipped)\n",
    "print(names)"
   ]
  },
  {
   "cell_type": "code",
   "execution_count": 93,
   "metadata": {},
   "outputs": [
    {
     "name": "stdout",
     "output_type": "stream",
     "text": [
      "0 sandesh\n",
      "1 rajesh\n"
     ]
    }
   ],
   "source": [
    "#enum\n",
    "for i,j in enumerate(names):\n",
    "    print(i,j)"
   ]
  },
  {
   "cell_type": "code",
   "execution_count": 213,
   "metadata": {},
   "outputs": [
    {
     "name": "stdout",
     "output_type": "stream",
     "text": [
      "another func\n"
     ]
    }
   ],
   "source": [
    "# def outer(func):\n",
    "#     def inner():\n",
    "        \n",
    "#         return another_func()\n",
    "#     return inner\n",
    "\n",
    "# @outer\n",
    "# def func1(a,b):\n",
    "#     return a+b\n",
    "\n",
    "# def another_func():\n",
    "#     return 'another func'\n",
    "\n",
    "# print(func1())\n",
    "\n",
    "\n",
    "\n",
    "\n"
   ]
  },
  {
   "cell_type": "code",
   "execution_count": 171,
   "metadata": {},
   "outputs": [
    {
     "data": {
      "text/plain": [
       "[2, 4, 6, 8, 10, 62, 42, 26]"
      ]
     },
     "execution_count": 171,
     "metadata": {},
     "output_type": "execute_result"
    }
   ],
   "source": [
    "#filter\n",
    "\n",
    "l = [1,2,3,4,5,6,7,8,9,10,11,19,25,62,42,35,26,]\n",
    "\n",
    "func = lambda a : a%2==0\n",
    "evens = list(filter(func, l))\n",
    "evens"
   ]
  },
  {
   "cell_type": "code",
   "execution_count": 172,
   "metadata": {},
   "outputs": [
    {
     "data": {
      "text/plain": [
       "[1, 4, 9, 16, 25, 36, 49, 64, 81, 100, 121, 361, 625, 3844, 1764, 1225, 676]"
      ]
     },
     "execution_count": 172,
     "metadata": {},
     "output_type": "execute_result"
    }
   ],
   "source": [
    "#map\n",
    "\n",
    "func = lambda a : a*a\n",
    "squares = list(map(func, l))\n",
    "squares"
   ]
  },
  {
   "cell_type": "code",
   "execution_count": 208,
   "metadata": {},
   "outputs": [
    {
     "name": "stdout",
     "output_type": "stream",
     "text": [
      "sanndesh more\n",
      "sanndesh more\n",
      "sanndesh more\n",
      "sanndesh more\n",
      "sanndesh more\n",
      "sanndesh more\n",
      "sanndesh more\n",
      "sanndesh more\n",
      "sanndesh more\n",
      "sanndesh more"
     ]
    }
   ],
   "source": [
    "with open('untitled.txt','r+') as f:\n",
    "    for line in f:\n",
    "        print(line,end='')\n",
    "            \n",
    "    \n",
    "\n",
    "    "
   ]
  },
  {
   "cell_type": "code",
   "execution_count": null,
   "metadata": {},
   "outputs": [],
   "source": []
  },
  {
   "cell_type": "code",
   "execution_count": null,
   "metadata": {},
   "outputs": [],
   "source": []
  },
  {
   "cell_type": "code",
   "execution_count": null,
   "metadata": {},
   "outputs": [],
   "source": []
  }
 ],
 "metadata": {
  "kernelspec": {
   "display_name": "Python 3",
   "language": "python",
   "name": "python3"
  },
  "language_info": {
   "codemirror_mode": {
    "name": "ipython",
    "version": 3
   },
   "file_extension": ".py",
   "mimetype": "text/x-python",
   "name": "python",
   "nbconvert_exporter": "python",
   "pygments_lexer": "ipython3",
   "version": "3.7.2"
  }
 },
 "nbformat": 4,
 "nbformat_minor": 2
}
