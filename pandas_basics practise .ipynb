{
 "cells": [
  {
   "cell_type": "code",
   "execution_count": 161,
   "metadata": {},
   "outputs": [],
   "source": [
    "from IPython.core.interactiveshell import InteractiveShell\n",
    "InteractiveShell.ast_node_interactivity = \"all\"\n",
    "\n",
    "import pandas as pd\n",
    "import numpy as np"
   ]
  },
  {
   "cell_type": "code",
   "execution_count": 31,
   "metadata": {},
   "outputs": [
    {
     "name": "stdout",
     "output_type": "stream",
     "text": [
      "      first_name  last_name  age\n",
      "index                           \n",
      "1        sandesh       more   21\n",
      "2       siddhesh        lad   25\n",
      "3         pranay     chopra   18\n",
      "4        abishek      patil   29\n",
      "5           john  mackenzie   15\n",
      "6         albert   decousta   16\n",
      "7          jimmy      frank   18\n",
      "8           amit      patel   30\n"
     ]
    }
   ],
   "source": [
    "#creating dataframe\n",
    "\n",
    "df = pd.DataFrame([['sandesh','more',21],['siddhesh','lad',25],['pranay','chopra',18],['abishek','patil',29],\n",
    "                  ['john','mackenzie',15],['albert','decousta',16],['jimmy','frank',18],['amit','patel',30]],\n",
    "                  index = [i for i in np.arange(1,9)],\n",
    "                  columns = ['first_name','last_name','age'])\n",
    "df.index.name = 'index'\n",
    "print(df)"
   ]
  },
  {
   "cell_type": "code",
   "execution_count": 37,
   "metadata": {},
   "outputs": [
    {
     "name": "stdout",
     "output_type": "stream",
     "text": [
      "      first_name last_name  age\n",
      "index                          \n",
      "1        sandesh      more   21\n",
      "2       siddhesh       lad   25 \n",
      "\n",
      "       first_name last_name  age\n",
      "index                          \n",
      "7          jimmy     frank   18\n",
      "8           amit     patel   30\n"
     ]
    }
   ],
   "source": [
    "print(df.head(2),'\\n\\n',\n",
    "      df.tail(2))"
   ]
  },
  {
   "cell_type": "code",
   "execution_count": 167,
   "metadata": {},
   "outputs": [
    {
     "data": {
      "text/html": [
       "<div>\n",
       "<style scoped>\n",
       "    .dataframe tbody tr th:only-of-type {\n",
       "        vertical-align: middle;\n",
       "    }\n",
       "\n",
       "    .dataframe tbody tr th {\n",
       "        vertical-align: top;\n",
       "    }\n",
       "\n",
       "    .dataframe thead th {\n",
       "        text-align: right;\n",
       "    }\n",
       "</style>\n",
       "<table border=\"1\" class=\"dataframe\">\n",
       "  <thead>\n",
       "    <tr style=\"text-align: right;\">\n",
       "      <th></th>\n",
       "      <th>first_name</th>\n",
       "    </tr>\n",
       "    <tr>\n",
       "      <th>index</th>\n",
       "      <th></th>\n",
       "    </tr>\n",
       "  </thead>\n",
       "  <tbody>\n",
       "    <tr>\n",
       "      <th>1</th>\n",
       "      <td>sandesh</td>\n",
       "    </tr>\n",
       "    <tr>\n",
       "      <th>2</th>\n",
       "      <td>siddhesh</td>\n",
       "    </tr>\n",
       "    <tr>\n",
       "      <th>3</th>\n",
       "      <td>pranay</td>\n",
       "    </tr>\n",
       "    <tr>\n",
       "      <th>4</th>\n",
       "      <td>abishek</td>\n",
       "    </tr>\n",
       "    <tr>\n",
       "      <th>5</th>\n",
       "      <td>john</td>\n",
       "    </tr>\n",
       "    <tr>\n",
       "      <th>6</th>\n",
       "      <td>albert</td>\n",
       "    </tr>\n",
       "    <tr>\n",
       "      <th>7</th>\n",
       "      <td>jimmy</td>\n",
       "    </tr>\n",
       "    <tr>\n",
       "      <th>8</th>\n",
       "      <td>amit</td>\n",
       "    </tr>\n",
       "  </tbody>\n",
       "</table>\n",
       "</div>"
      ],
      "text/plain": [
       "      first_name\n",
       "index           \n",
       "1        sandesh\n",
       "2       siddhesh\n",
       "3         pranay\n",
       "4        abishek\n",
       "5           john\n",
       "6         albert\n",
       "7          jimmy\n",
       "8           amit"
      ]
     },
     "execution_count": 167,
     "metadata": {},
     "output_type": "execute_result"
    },
    {
     "data": {
      "text/html": [
       "<div>\n",
       "<style scoped>\n",
       "    .dataframe tbody tr th:only-of-type {\n",
       "        vertical-align: middle;\n",
       "    }\n",
       "\n",
       "    .dataframe tbody tr th {\n",
       "        vertical-align: top;\n",
       "    }\n",
       "\n",
       "    .dataframe thead th {\n",
       "        text-align: right;\n",
       "    }\n",
       "</style>\n",
       "<table border=\"1\" class=\"dataframe\">\n",
       "  <thead>\n",
       "    <tr style=\"text-align: right;\">\n",
       "      <th></th>\n",
       "      <th>first_name</th>\n",
       "      <th>last_name</th>\n",
       "    </tr>\n",
       "    <tr>\n",
       "      <th>index</th>\n",
       "      <th></th>\n",
       "      <th></th>\n",
       "    </tr>\n",
       "  </thead>\n",
       "  <tbody>\n",
       "    <tr>\n",
       "      <th>1</th>\n",
       "      <td>sandesh</td>\n",
       "      <td>more</td>\n",
       "    </tr>\n",
       "    <tr>\n",
       "      <th>2</th>\n",
       "      <td>siddhesh</td>\n",
       "      <td>lad</td>\n",
       "    </tr>\n",
       "    <tr>\n",
       "      <th>3</th>\n",
       "      <td>pranay</td>\n",
       "      <td>chopra</td>\n",
       "    </tr>\n",
       "    <tr>\n",
       "      <th>4</th>\n",
       "      <td>abishek</td>\n",
       "      <td>patil</td>\n",
       "    </tr>\n",
       "    <tr>\n",
       "      <th>5</th>\n",
       "      <td>john</td>\n",
       "      <td>mackenzie</td>\n",
       "    </tr>\n",
       "    <tr>\n",
       "      <th>6</th>\n",
       "      <td>albert</td>\n",
       "      <td>decousta</td>\n",
       "    </tr>\n",
       "    <tr>\n",
       "      <th>7</th>\n",
       "      <td>jimmy</td>\n",
       "      <td>frank</td>\n",
       "    </tr>\n",
       "    <tr>\n",
       "      <th>8</th>\n",
       "      <td>amit</td>\n",
       "      <td>patel</td>\n",
       "    </tr>\n",
       "  </tbody>\n",
       "</table>\n",
       "</div>"
      ],
      "text/plain": [
       "      first_name  last_name\n",
       "index                      \n",
       "1        sandesh       more\n",
       "2       siddhesh        lad\n",
       "3         pranay     chopra\n",
       "4        abishek      patil\n",
       "5           john  mackenzie\n",
       "6         albert   decousta\n",
       "7          jimmy      frank\n",
       "8           amit      patel"
      ]
     },
     "execution_count": 167,
     "metadata": {},
     "output_type": "execute_result"
    }
   ],
   "source": [
    "#getting specific column\n",
    "df[['first_name']]         #or df.first_name \n",
    "\n",
    "#getting multiple columns\n",
    "df[['first_name','last_name']]\n"
   ]
  },
  {
   "cell_type": "code",
   "execution_count": 172,
   "metadata": {},
   "outputs": [
    {
     "name": "stdout",
     "output_type": "stream",
     "text": [
      "<class 'numpy.ndarray'> ['sandesh' 'more' 21]\n",
      "<class 'numpy.ndarray'> ['siddhesh' 'lad' 25]\n",
      "<class 'numpy.ndarray'> ['pranay' 'chopra' 18]\n",
      "<class 'numpy.ndarray'> ['abishek' 'patil' 29]\n",
      "<class 'numpy.ndarray'> ['john' 'mackenzie' 15]\n",
      "<class 'numpy.ndarray'> ['albert' 'decousta' 16]\n",
      "<class 'numpy.ndarray'> ['jimmy' 'frank' 18]\n",
      "<class 'numpy.ndarray'> ['amit' 'patel' 30]\n"
     ]
    }
   ],
   "source": [
    "#getting rows\n",
    "for i in df.values:\n",
    "    print(type(i),i)"
   ]
  },
  {
   "cell_type": "code",
   "execution_count": 159,
   "metadata": {},
   "outputs": [
    {
     "data": {
      "text/plain": [
       "(8, 3)"
      ]
     },
     "execution_count": 159,
     "metadata": {},
     "output_type": "execute_result"
    },
    {
     "data": {
      "text/plain": [
       "8"
      ]
     },
     "execution_count": 159,
     "metadata": {},
     "output_type": "execute_result"
    },
    {
     "data": {
      "text/plain": [
       "Int64Index([1, 2, 3, 4, 5, 6, 7, 8], dtype='int64', name='index')"
      ]
     },
     "execution_count": 159,
     "metadata": {},
     "output_type": "execute_result"
    },
    {
     "data": {
      "text/plain": [
       "Index(['first_name', 'last_name', 'age'], dtype='object')"
      ]
     },
     "execution_count": 159,
     "metadata": {},
     "output_type": "execute_result"
    },
    {
     "name": "stdout",
     "output_type": "stream",
     "text": [
      "<class 'pandas.core.frame.DataFrame'>\n",
      "Int64Index: 8 entries, 1 to 8\n",
      "Data columns (total 3 columns):\n",
      "first_name    8 non-null object\n",
      "last_name     8 non-null object\n",
      "age           8 non-null int64\n",
      "dtypes: int64(1), object(2)\n",
      "memory usage: 448.0+ bytes\n"
     ]
    },
    {
     "data": {
      "text/plain": [
       "first_name    8\n",
       "last_name     8\n",
       "age           8\n",
       "dtype: int64"
      ]
     },
     "execution_count": 159,
     "metadata": {},
     "output_type": "execute_result"
    }
   ],
   "source": [
    "#some attributes of dataframe\n",
    "df.shape\n",
    "len(df)\n",
    "df.index\n",
    "df.columns\n",
    "df.info()\n",
    "df.count()"
   ]
  },
  {
   "cell_type": "code",
   "execution_count": 160,
   "metadata": {},
   "outputs": [
    {
     "data": {
      "text/plain": [
       "172"
      ]
     },
     "execution_count": 160,
     "metadata": {},
     "output_type": "execute_result"
    },
    {
     "data": {
      "text/plain": [
       "index\n",
       "1     21\n",
       "2     46\n",
       "3     64\n",
       "4     93\n",
       "5    108\n",
       "6    124\n",
       "7    142\n",
       "8    172\n",
       "Name: age, dtype: int64"
      ]
     },
     "execution_count": 160,
     "metadata": {},
     "output_type": "execute_result"
    },
    {
     "data": {
      "text/plain": [
       "30"
      ]
     },
     "execution_count": 160,
     "metadata": {},
     "output_type": "execute_result"
    }
   ],
   "source": [
    "df['age'].sum()\n",
    "df['age'].cumsum()\n",
    "df['age'].max()   #similarly min, idxmax() ,idxmin(), mean(), median(), std(), var()"
   ]
  },
  {
   "cell_type": "code",
   "execution_count": 146,
   "metadata": {},
   "outputs": [
    {
     "data": {
      "text/plain": [
       "16"
      ]
     },
     "execution_count": 146,
     "metadata": {},
     "output_type": "execute_result"
    }
   ],
   "source": [
    "#single row by specifying index\n",
    "df.iloc[5]       # df[5] not allowed"
   ]
  },
  {
   "cell_type": "code",
   "execution_count": 157,
   "metadata": {},
   "outputs": [],
   "source": [
    "#handling missing colmns\n",
    "#df.dropna() \n",
    "#df.fillna(0)"
   ]
  },
  {
   "cell_type": "code",
   "execution_count": null,
   "metadata": {},
   "outputs": [],
   "source": []
  }
 ],
 "metadata": {
  "kernelspec": {
   "display_name": "Python 3",
   "language": "python",
   "name": "python3"
  },
  "language_info": {
   "codemirror_mode": {
    "name": "ipython",
    "version": 3
   },
   "file_extension": ".py",
   "mimetype": "text/x-python",
   "name": "python",
   "nbconvert_exporter": "python",
   "pygments_lexer": "ipython3",
   "version": "3.7.2"
  }
 },
 "nbformat": 4,
 "nbformat_minor": 2
}
